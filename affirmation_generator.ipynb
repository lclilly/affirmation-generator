{
 "cells": [
  {
   "cell_type": "code",
   "execution_count": 2,
   "id": "46148161-d8ec-4ab4-bc91-0e556a61b4d2",
   "metadata": {},
   "outputs": [
    {
     "name": "stdout",
     "output_type": "stream",
     "text": [
      "\n",
      "💛 DAILY AFFIRMATION 💛\n",
      "--------------------------\n",
      "Date: 2025-08-01\n",
      "\n",
      "\"You are aligned. You are protected. You are loved.\"\n",
      "\n",
      "✨ Keep showing up. Keep trusting God. ✨\n",
      "\n"
     ]
    },
    {
     "name": "stdin",
     "output_type": "stream",
     "text": [
      "Do you want to save this to your log? (y/n):  y\n"
     ]
    },
    {
     "name": "stdout",
     "output_type": "stream",
     "text": [
      "✅ Affirmation saved to affirmation_log.csv!\n",
      "\n"
     ]
    }
   ],
   "source": [
    "import random\n",
    "import csv\n",
    "import datetime\n",
    "\n",
    "#affirmations\n",
    "affirmations = [\n",
    "    \"You are walking into rooms you once prayed for.\",\n",
    "    \"You are not behind — you are being prepared.\",\n",
    "    \"Your quiet season is not punishment, it’s preparation.\",\n",
    "    \"You’re glowing differently because you’re healing.\",\n",
    "    \"You can do hard things — and still be soft and kind.\",\n",
    "    \"Your presence is enough. Your energy is needed.\",\n",
    "    \"You are aligned. You are protected. You are loved.\",\n",
    "    \"Even now, God is working behind the scenes for you.\",\n",
    "    \"Rest is productive. Peace is your portion.\",\n",
    "    \"You are building a life that reflects who you really are.\"\n",
    "]\n",
    "\n",
    "#select a random affirmation\n",
    "selected = random.choice(affirmations)\n",
    "\n",
    "#today's date\n",
    "today = datetime.date.today().strftime(\"%Y-%m-%d\")\n",
    "\n",
    "#display output\n",
    "print(\"\\n💛 DAILY AFFIRMATION 💛\")\n",
    "print(\"--------------------------\")\n",
    "print(f\"Date: {today}\\n\")\n",
    "print(f\"\\\"{selected}\\\"\\n\")\n",
    "print(\"✨ Keep showing up. Keep trusting God. ✨\\n\")\n",
    "\n",
    "#optional to save to csv\n",
    "save_log = input(\"Do you want to save this to your log? (y/n): \").lower()\n",
    "\n",
    "if save_log == 'y':\n",
    "    with open(\"affirmation_log.csv\", mode=\"a\", newline=\"\", encoding='utf-8') as file:\n",
    "        writer = csv.writer(file)\n",
    "        writer.writerow([today, selected])\n",
    "    print(\"✅ Affirmation saved to affirmation_log.csv!\\n\")\n",
    "else:\n",
    "    print(\"📝 No worries. Just take it in and breathe. 🌸\\n\")\n"
   ]
  },
  {
   "cell_type": "code",
   "execution_count": null,
   "id": "353849b6-1bb7-4b7f-b048-08d6656213b3",
   "metadata": {},
   "outputs": [],
   "source": []
  }
 ],
 "metadata": {
  "kernelspec": {
   "display_name": "Python [conda env:py13]",
   "language": "python",
   "name": "conda-env-py13-py"
  },
  "language_info": {
   "codemirror_mode": {
    "name": "ipython",
    "version": 3
   },
   "file_extension": ".py",
   "mimetype": "text/x-python",
   "name": "python",
   "nbconvert_exporter": "python",
   "pygments_lexer": "ipython3",
   "version": "3.13.5"
  }
 },
 "nbformat": 4,
 "nbformat_minor": 5
}
